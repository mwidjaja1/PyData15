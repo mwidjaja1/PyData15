{
 "cells": [
  {
   "cell_type": "markdown",
   "metadata": {},
   "source": [
    "Grid Searches\n",
    "================="
   ]
  },
  {
   "cell_type": "markdown",
   "metadata": {},
   "source": [
    "Grid-Search with build-in cross validation"
   ]
  },
  {
   "cell_type": "code",
   "execution_count": 1,
   "metadata": {
    "collapsed": false
   },
   "outputs": [],
   "source": [
    "from sklearn.grid_search import GridSearchCV\n",
    "from sklearn.svm import SVC"
   ]
  },
  {
   "cell_type": "code",
   "execution_count": 2,
   "metadata": {
    "collapsed": false
   },
   "outputs": [],
   "source": [
    "from sklearn.datasets import load_digits\n",
    "from sklearn.cross_validation import train_test_split\n",
    "digits = load_digits()\n",
    "X_train, X_test, y_train, y_test = train_test_split(digits.data, digits.target)"
   ]
  },
  {
   "cell_type": "markdown",
   "metadata": {},
   "source": [
    "Define parameter grid:"
   ]
  },
  {
   "cell_type": "code",
   "execution_count": 3,
   "metadata": {
    "collapsed": false
   },
   "outputs": [
    {
     "name": "stdout",
     "output_type": "stream",
     "text": [
      "{'C': array([   0.001,    0.01 ,    0.1  ,    1.   ,   10.   ,  100.   ]), 'gamma': array([ 0.00001,  0.0001 ,  0.001  ,  0.01   ,  0.1    ])}\n"
     ]
    }
   ],
   "source": [
    "import numpy as np\n",
    "\n",
    "param_grid = {'C': 10. ** np.arange(-3, 3), 'gamma' : 10. ** np.arange(-5, 0)}\n",
    "\n",
    "np.set_printoptions(suppress=True)\n",
    "print(param_grid)"
   ]
  },
  {
   "cell_type": "code",
   "execution_count": 4,
   "metadata": {
    "collapsed": false
   },
   "outputs": [],
   "source": [
    "grid_search = GridSearchCV(SVC(), param_grid, verbose=3)"
   ]
  },
  {
   "cell_type": "markdown",
   "metadata": {},
   "source": [
    "A GridSearchCV object behaves just like a normal classifier."
   ]
  },
  {
   "cell_type": "code",
   "execution_count": 5,
   "metadata": {
    "collapsed": false,
    "scrolled": true
   },
   "outputs": [
    {
     "name": "stdout",
     "output_type": "stream",
     "text": [
      "Fitting 3 folds for each of 30 candidates, totalling 90 fits\n",
      "[CV] C=0.001, gamma=1e-05 ............................................\n",
      "[CV] ................... C=0.001, gamma=1e-05, score=0.103982 -   0.2s\n",
      "[CV] C=0.001, gamma=1e-05 ............................................\n",
      "[CV] ................... C=0.001, gamma=1e-05, score=0.196429 -   0.2s\n",
      "[CV] C=0.001, gamma=1e-05 ............................................\n",
      "[CV] ................... C=0.001, gamma=1e-05, score=0.102908 -   0.2s\n",
      "[CV] C=0.001, gamma=0.0001 ...........................................\n",
      "[CV] .................. C=0.001, gamma=0.0001, score=0.103982 -   0.2s\n",
      "[CV] C=0.001, gamma=0.0001 ...........................................\n",
      "[CV] .................. C=0.001, gamma=0.0001, score=0.196429 -   0.2s\n",
      "[CV] C=0.001, gamma=0.0001 ...........................................\n",
      "[CV] .................. C=0.001, gamma=0.0001, score=0.102908 -   0.2s\n",
      "[CV] C=0.001, gamma=0.001 ............................................\n",
      "[CV] ................... C=0.001, gamma=0.001, score=0.103982 -   0.2s\n",
      "[CV] C=0.001, gamma=0.001 ............................................\n",
      "[CV] ................... C=0.001, gamma=0.001, score=0.205357 -   0.2s\n",
      "[CV] C=0.001, gamma=0.001 ............................................\n",
      "[CV] ................... C=0.001, gamma=0.001, score=0.102908 -   0.2s\n",
      "[CV] C=0.001, gamma=0.01 .............................................\n",
      "[CV] .................... C=0.001, gamma=0.01, score=0.103982 -   0.2s\n",
      "[CV] C=0.001, gamma=0.01 .............................................\n",
      "[CV] .................... C=0.001, gamma=0.01, score=0.140625 -   0.2s\n",
      "[CV] C=0.001, gamma=0.01 .............................................\n",
      "[CV] .................... C=0.001, gamma=0.01, score=0.102908 -   0.2s\n",
      "[CV] C=0.001, gamma=0.1 ..............................................\n",
      "[CV] ..................... C=0.001, gamma=0.1, score=0.103982 -   0.2s\n",
      "[CV] C=0.001, gamma=0.1 ..............................................\n",
      "[CV] ..................... C=0.001, gamma=0.1, score=0.102679 -   0.2s\n",
      "[CV] C=0.001, gamma=0.1 ..............................................\n",
      "[CV] ..................... C=0.001, gamma=0.1, score=0.102908 -   0.2s\n",
      "[CV] C=0.01, gamma=1e-05 .............................................\n",
      "[CV] .................... C=0.01, gamma=1e-05, score=0.103982 -   0.2s\n",
      "[CV] C=0.01, gamma=1e-05 .............................................\n",
      "[CV] .................... C=0.01, gamma=1e-05, score=0.196429 -   0.2s\n",
      "[CV] C=0.01, gamma=1e-05 .............................................\n",
      "[CV] .................... C=0.01, gamma=1e-05, score=0.102908 -   0.2s\n",
      "[CV] C=0.01, gamma=0.0001 ............................................\n",
      "[CV] ................... C=0.01, gamma=0.0001, score=0.103982 -   0.2s\n",
      "[CV] C=0.01, gamma=0.0001 ............................................\n",
      "[CV] ................... C=0.01, gamma=0.0001, score=0.196429 -   0.2s\n",
      "[CV] C=0.01, gamma=0.0001 ............................................\n",
      "[CV] ................... C=0.01, gamma=0.0001, score=0.102908 -   0.2s\n",
      "[CV] C=0.01, gamma=0.001 .............................................\n",
      "[CV] .................... C=0.01, gamma=0.001, score=0.103982 -   0.2s\n",
      "[CV] C=0.01, gamma=0.001 .............................................\n",
      "[CV] .................... C=0.01, gamma=0.001, score=0.205357 -   0.2s\n",
      "[CV] C=0.01, gamma=0.001 .............................................\n",
      "[CV] .................... C=0.01, gamma=0.001, score=0.102908 -   0.2s\n",
      "[CV] C=0.01, gamma=0.01 ..............................................\n",
      "[CV] ..................... C=0.01, gamma=0.01, score=0.103982 -   0.2s\n",
      "[CV] C=0.01, gamma=0.01 ..............................................\n",
      "[CV] ..................... C=0.01, gamma=0.01, score=0.140625 -   0.2s\n",
      "[CV] C=0.01, gamma=0.01 ..............................................\n",
      "[CV] ..................... C=0.01, gamma=0.01, score=0.102908 -   0.2s\n",
      "[CV] C=0.01, gamma=0.1 ...............................................\n",
      "[CV] ...................... C=0.01, gamma=0.1, score=0.103982 -   0.2s\n",
      "[CV] C=0.01, gamma=0.1 ...............................................\n",
      "[CV] ...................... C=0.01, gamma=0.1, score=0.102679 -   0.2s\n",
      "[CV] C=0.01, gamma=0.1 ...............................................\n",
      "[CV] ...................... C=0.01, gamma=0.1, score=0.102908 -   0.2s\n",
      "[CV] C=0.1, gamma=1e-05 ..............................................\n",
      "[CV] ..................... C=0.1, gamma=1e-05, score=0.103982 -   0.2s\n",
      "[CV] C=0.1, gamma=1e-05 ..............................................\n",
      "[CV] ..................... C=0.1, gamma=1e-05, score=0.196429 -   0.2s"
     ]
    },
    {
     "name": "stderr",
     "output_type": "stream",
     "text": [
      "[Parallel(n_jobs=1)]: Done   1 jobs       | elapsed:    0.2s\n",
      "[Parallel(n_jobs=1)]: Done  32 jobs       | elapsed:    6.0s\n"
     ]
    },
    {
     "name": "stdout",
     "output_type": "stream",
     "text": [
      "\n",
      "[CV] C=0.1, gamma=1e-05 ..............................................\n",
      "[CV] ..................... C=0.1, gamma=1e-05, score=0.102908 -   0.2s\n",
      "[CV] C=0.1, gamma=0.0001 .............................................\n",
      "[CV] .................... C=0.1, gamma=0.0001, score=0.767699 -   0.2s\n",
      "[CV] C=0.1, gamma=0.0001 .............................................\n",
      "[CV] .................... C=0.1, gamma=0.0001, score=0.781250 -   0.2s\n",
      "[CV] C=0.1, gamma=0.0001 .............................................\n",
      "[CV] .................... C=0.1, gamma=0.0001, score=0.787472 -   0.2s\n",
      "[CV] C=0.1, gamma=0.001 ..............................................\n",
      "[CV] ..................... C=0.1, gamma=0.001, score=0.946903 -   0.1s\n",
      "[CV] C=0.1, gamma=0.001 ..............................................\n",
      "[CV] ..................... C=0.1, gamma=0.001, score=0.968750 -   0.1s\n",
      "[CV] C=0.1, gamma=0.001 ..............................................\n",
      "[CV] ..................... C=0.1, gamma=0.001, score=0.946309 -   0.1s\n",
      "[CV] C=0.1, gamma=0.01 ...............................................\n",
      "[CV] ...................... C=0.1, gamma=0.01, score=0.103982 -   0.2s\n",
      "[CV] C=0.1, gamma=0.01 ...............................................\n",
      "[CV] ...................... C=0.1, gamma=0.01, score=0.140625 -   0.2s\n",
      "[CV] C=0.1, gamma=0.01 ...............................................\n",
      "[CV] ...................... C=0.1, gamma=0.01, score=0.102908 -   0.2s\n",
      "[CV] C=0.1, gamma=0.1 ................................................\n",
      "[CV] ....................... C=0.1, gamma=0.1, score=0.103982 -   0.2s\n",
      "[CV] C=0.1, gamma=0.1 ................................................\n",
      "[CV] ....................... C=0.1, gamma=0.1, score=0.102679 -   0.2s\n",
      "[CV] C=0.1, gamma=0.1 ................................................\n",
      "[CV] ....................... C=0.1, gamma=0.1, score=0.102908 -   0.2s\n",
      "[CV] C=1.0, gamma=1e-05 ..............................................\n",
      "[CV] ..................... C=1.0, gamma=1e-05, score=0.831858 -   0.2s\n",
      "[CV] C=1.0, gamma=1e-05 ..............................................\n",
      "[CV] ..................... C=1.0, gamma=1e-05, score=0.830357 -   0.2s\n",
      "[CV] C=1.0, gamma=1e-05 ..............................................\n",
      "[CV] ..................... C=1.0, gamma=1e-05, score=0.823266 -   0.2s\n",
      "[CV] C=1.0, gamma=0.0001 .............................................\n",
      "[CV] .................... C=1.0, gamma=0.0001, score=0.966814 -   0.1s\n",
      "[CV] C=1.0, gamma=0.0001 .............................................\n",
      "[CV] .................... C=1.0, gamma=0.0001, score=0.977679 -   0.1s\n",
      "[CV] C=1.0, gamma=0.0001 .............................................\n",
      "[CV] .................... C=1.0, gamma=0.0001, score=0.964206 -   0.1s\n",
      "[CV] C=1.0, gamma=0.001 ..............................................\n",
      "[CV] ..................... C=1.0, gamma=0.001, score=0.995575 -   0.1s\n",
      "[CV] C=1.0, gamma=0.001 ..............................................\n",
      "[CV] ..................... C=1.0, gamma=0.001, score=0.984375 -   0.1s\n",
      "[CV] C=1.0, gamma=0.001 ..............................................\n",
      "[CV] ..................... C=1.0, gamma=0.001, score=0.984340 -   0.1s\n",
      "[CV] C=1.0, gamma=0.01 ...............................................\n",
      "[CV] ...................... C=1.0, gamma=0.01, score=0.688053 -   0.2s\n",
      "[CV] C=1.0, gamma=0.01 ...............................................\n",
      "[CV] ...................... C=1.0, gamma=0.01, score=0.743304 -   0.2s\n",
      "[CV] C=1.0, gamma=0.01 ...............................................\n",
      "[CV] ...................... C=1.0, gamma=0.01, score=0.731544 -   0.2s\n",
      "[CV] C=1.0, gamma=0.1 ................................................\n",
      "[CV] ....................... C=1.0, gamma=0.1, score=0.103982 -   0.2s\n",
      "[CV] C=1.0, gamma=0.1 ................................................\n",
      "[CV] ....................... C=1.0, gamma=0.1, score=0.104911 -   0.2s\n",
      "[CV] C=1.0, gamma=0.1 ................................................\n",
      "[CV] ....................... C=1.0, gamma=0.1, score=0.105145 -   0.2s\n",
      "[CV] C=10.0, gamma=1e-05 .............................................\n",
      "[CV] .................... C=10.0, gamma=1e-05, score=0.962389 -   0.1s\n",
      "[CV] C=10.0, gamma=1e-05 .............................................\n",
      "[CV] .................... C=10.0, gamma=1e-05, score=0.975446 -   0.1s\n",
      "[CV] C=10.0, gamma=1e-05 .............................................\n",
      "[CV] .................... C=10.0, gamma=1e-05, score=0.961969 -   0.1s\n",
      "[CV] C=10.0, gamma=0.0001 ............................................\n",
      "[CV] ................... C=10.0, gamma=0.0001, score=0.988938 -   0.0s\n",
      "[CV] C=10.0, gamma=0.0001 ............................................\n",
      "[CV] ................... C=10.0, gamma=0.0001, score=0.984375 -   0.0s\n",
      "[CV] C=10.0, gamma=0.0001 ............................................\n",
      "[CV] ................... C=10.0, gamma=0.0001, score=0.979866 -   0.0s\n",
      "[CV] C=10.0, gamma=0.001 .............................................\n",
      "[CV] .................... C=10.0, gamma=0.001, score=0.993363 -   0.1s\n",
      "[CV] C=10.0, gamma=0.001 .............................................\n",
      "[CV] .................... C=10.0, gamma=0.001, score=0.984375 -   0.1s\n",
      "[CV] C=10.0, gamma=0.001 .............................................\n",
      "[CV] .................... C=10.0, gamma=0.001, score=0.984340 -   0.1s\n",
      "[CV] C=10.0, gamma=0.01 ..............................................\n",
      "[CV] ..................... C=10.0, gamma=0.01, score=0.721239 -   0.2s\n",
      "[CV] C=10.0, gamma=0.01 ..............................................\n",
      "[CV] ..................... C=10.0, gamma=0.01, score=0.750000 -   0.2s\n",
      "[CV] C=10.0, gamma=0.01 ..............................................\n",
      "[CV] ..................... C=10.0, gamma=0.01, score=0.751678 -   0.2s\n",
      "[CV] C=10.0, gamma=0.1 ...............................................\n",
      "[CV] ...................... C=10.0, gamma=0.1, score=0.103982 -   0.2s\n",
      "[CV] C=10.0, gamma=0.1 ...............................................\n",
      "[CV] ...................... C=10.0, gamma=0.1, score=0.104911 -   0.2s\n",
      "[CV] C=10.0, gamma=0.1 ...............................................\n",
      "[CV] ...................... C=10.0, gamma=0.1, score=0.105145 -   0.2s\n",
      "[CV] C=100.0, gamma=1e-05 ............................................\n",
      "[CV] ................... C=100.0, gamma=1e-05, score=0.984513 -   0.0s\n",
      "[CV] C=100.0, gamma=1e-05 ............................................\n",
      "[CV] ................... C=100.0, gamma=1e-05, score=0.982143 -   0.0s\n",
      "[CV] C=100.0, gamma=1e-05 ............................................\n",
      "[CV] ................... C=100.0, gamma=1e-05, score=0.973154 -   0.0s\n",
      "[CV] C=100.0, gamma=0.0001 ...........................................\n",
      "[CV] .................. C=100.0, gamma=0.0001, score=0.984513 -   0.0s\n",
      "[CV] C=100.0, gamma=0.0001 ...........................................\n",
      "[CV] .................. C=100.0, gamma=0.0001, score=0.979911 -   0.0s\n",
      "[CV] C=100.0, gamma=0.0001 ...........................................\n",
      "[CV] .................. C=100.0, gamma=0.0001, score=0.973154 -   0.0s\n",
      "[CV] C=100.0, gamma=0.001 ............................................\n",
      "[CV] ................... C=100.0, gamma=0.001, score=0.993363 -   0.1s\n",
      "[CV] C=100.0, gamma=0.001 ............................................\n",
      "[CV] ................... C=100.0, gamma=0.001, score=0.984375 -   0.1s\n",
      "[CV] C=100.0, gamma=0.001 ............................................\n",
      "[CV] ................... C=100.0, gamma=0.001, score=0.984340 -   0.1s\n",
      "[CV] C=100.0, gamma=0.01 .............................................\n",
      "[CV] .................... C=100.0, gamma=0.01, score=0.721239 -   0.2s\n",
      "[CV] C=100.0, gamma=0.01 .............................................\n",
      "[CV] .................... C=100.0, gamma=0.01, score=0.750000 -   0.2s\n",
      "[CV] C=100.0, gamma=0.01 .............................................\n",
      "[CV] .................... C=100.0, gamma=0.01, score=0.751678 -   0.2s\n",
      "[CV] C=100.0, gamma=0.1 ..............................................\n",
      "[CV] ..................... C=100.0, gamma=0.1, score=0.103982 -   0.2s\n",
      "[CV] C=100.0, gamma=0.1 ..............................................\n",
      "[CV] ..................... C=100.0, gamma=0.1, score=0.104911 -   0.2s\n",
      "[CV] C=100.0, gamma=0.1 ..............................................\n",
      "[CV] ..................... C=100.0, gamma=0.1, score=0.105145 -   0.2s\n"
     ]
    },
    {
     "name": "stderr",
     "output_type": "stream",
     "text": [
      "[Parallel(n_jobs=1)]: Done  90 out of  90 | elapsed:   14.3s finished\n"
     ]
    },
    {
     "data": {
      "text/plain": [
       "GridSearchCV(cv=None, error_score='raise',\n",
       "       estimator=SVC(C=1.0, cache_size=200, class_weight=None, coef0=0.0, degree=3, gamma=0.0,\n",
       "  kernel='rbf', max_iter=-1, probability=False, random_state=None,\n",
       "  shrinking=True, tol=0.001, verbose=False),\n",
       "       fit_params={}, iid=True, n_jobs=1,\n",
       "       param_grid={'C': array([   0.001,    0.01 ,    0.1  ,    1.   ,   10.   ,  100.   ]), 'gamma': array([ 0.00001,  0.0001 ,  0.001  ,  0.01   ,  0.1    ])},\n",
       "       pre_dispatch='2*n_jobs', refit=True, scoring=None, verbose=3)"
      ]
     },
     "execution_count": 5,
     "metadata": {},
     "output_type": "execute_result"
    }
   ],
   "source": [
    "grid_search.fit(X_train, y_train)"
   ]
  },
  {
   "cell_type": "code",
   "execution_count": 6,
   "metadata": {
    "collapsed": false
   },
   "outputs": [
    {
     "data": {
      "text/plain": [
       "array([9, 4, 5, 9, 0, 1, 2, 3, 3, 8, 4, 9, 2, 6, 3, 6, 8, 9, 0, 1, 1, 7, 1,\n",
       "       6, 7, 1, 1, 6, 2, 5, 3, 8, 2, 7, 6, 5, 9, 0, 0, 7, 0, 0, 4, 4, 6, 7,\n",
       "       8, 6, 5, 2, 7, 2, 5, 3, 9, 8, 8, 0, 4, 3, 1, 4, 5, 1, 9, 6, 8, 0, 4,\n",
       "       4, 3, 9, 2, 3, 4, 5, 0, 6, 4, 8, 1, 9, 0, 0, 6, 5, 7, 3, 9, 6, 2, 9,\n",
       "       8, 3, 3, 8, 0, 8, 7, 1, 2, 7, 6, 9, 8, 2, 1, 1, 8, 7, 2, 3, 9, 6, 3,\n",
       "       7, 5, 0, 3, 6, 3, 4, 6, 0, 4, 9, 2, 7, 9, 3, 4, 8, 9, 8, 2, 2, 4, 0,\n",
       "       0, 2, 0, 8, 0, 5, 0, 1, 1, 9, 5, 4, 4, 4, 8, 4, 5, 2, 6, 7, 7, 5, 1,\n",
       "       1, 7, 8, 9, 9, 3, 2, 2, 0, 9, 5, 0, 3, 6, 2, 4, 7, 7, 1, 0, 3, 9, 0,\n",
       "       7, 1, 2, 0, 8, 0, 9, 0, 9, 0, 4, 7, 3, 6, 8, 5, 9, 0, 0, 8, 3, 3, 3,\n",
       "       6, 8, 8, 2, 7, 6, 7, 8, 6, 1, 5, 2, 6, 5, 5, 4, 6, 8, 8, 8, 4, 5, 9,\n",
       "       7, 0, 4, 0, 6, 0, 6, 5, 5, 2, 5, 7, 2, 2, 7, 0, 9, 4, 7, 0, 3, 9, 9,\n",
       "       5, 7, 3, 4, 9, 0, 9, 1, 8, 1, 3, 8, 6, 7, 1, 4, 7, 7, 3, 8, 4, 6, 2,\n",
       "       4, 8, 5, 1, 4, 8, 4, 6, 1, 9, 4, 2, 1, 6, 8, 8, 1, 7, 1, 5, 4, 9, 9,\n",
       "       7, 4, 6, 4, 2, 6, 7, 4, 6, 5, 3, 0, 6, 7, 4, 6, 1, 4, 6, 1, 8, 6, 7,\n",
       "       9, 7, 6, 1, 4, 3, 9, 3, 2, 2, 6, 8, 4, 1, 4, 6, 5, 5, 8, 3, 2, 1, 2,\n",
       "       8, 5, 9, 7, 1, 8, 8, 9, 1, 8, 7, 6, 6, 0, 7, 0, 8, 9, 4, 3, 7, 3, 4,\n",
       "       4, 6, 6, 2, 1, 9, 8, 9, 6, 0, 8, 7, 2, 8, 3, 3, 3, 3, 0, 9, 5, 8, 0,\n",
       "       2, 0, 5, 5, 1, 5, 9, 1, 9, 9, 2, 7, 1, 8, 7, 6, 7, 9, 1, 7, 5, 3, 4,\n",
       "       0, 7, 3, 0, 0, 9, 1, 7, 5, 7, 4, 3, 4, 1, 7, 3, 9, 5, 1, 2, 4, 4, 1,\n",
       "       2, 1, 5, 7, 3, 2, 3, 6, 5, 5, 3, 5, 1])"
      ]
     },
     "execution_count": 6,
     "metadata": {},
     "output_type": "execute_result"
    }
   ],
   "source": [
    "grid_search.predict(X_test)"
   ]
  },
  {
   "cell_type": "code",
   "execution_count": 8,
   "metadata": {
    "collapsed": false
   },
   "outputs": [
    {
     "data": {
      "text/plain": [
       "0.99111111111111116"
      ]
     },
     "execution_count": 8,
     "metadata": {},
     "output_type": "execute_result"
    }
   ],
   "source": [
    "grid_search.score(X_test, y_test)"
   ]
  },
  {
   "cell_type": "code",
   "execution_count": 9,
   "metadata": {
    "collapsed": false
   },
   "outputs": [
    {
     "data": {
      "text/plain": [
       "{'C': 1.0, 'gamma': 0.001}"
      ]
     },
     "execution_count": 9,
     "metadata": {},
     "output_type": "execute_result"
    }
   ],
   "source": [
    "grid_search.best_params_"
   ]
  },
  {
   "cell_type": "code",
   "execution_count": 10,
   "metadata": {
    "collapsed": false
   },
   "outputs": [
    {
     "data": {
      "image/png": "[encoded data removed]",
      "text/plain": [
       "<matplotlib.figure.Figure at 0x7fd0247a4690>"
      ]
     },
     "metadata": {},
     "output_type": "display_data"
    }
   ],
   "source": [
    "# We extract just the scores\n",
    "%matplotlib inline\n",
    "import matplotlib.pyplot as plt\n",
    "\n",
    "scores = [x[1] for x in grid_search.grid_scores_]\n",
    "scores = np.array(scores).reshape(6, 5)\n",
    "\n",
    "plt.matshow(scores)\n",
    "plt.xlabel('gamma')\n",
    "plt.ylabel('C')\n",
    "plt.colorbar()\n",
    "plt.xticks(np.arange(5), param_grid['gamma'])\n",
    "plt.yticks(np.arange(6), param_grid['C']);"
   ]
  },
  {
   "cell_type": "code",
   "execution_count": null,
   "metadata": {
    "collapsed": false
   },
   "outputs": [],
   "source": []
  }
 ],
 "metadata": {
  "kernelspec": {
   "display_name": "Python 2",
   "language": "python",
   "name": "python2"
  },
  "language_info": {
   "codemirror_mode": {
    "name": "ipython",
    "version": 2
   },
   "file_extension": ".py",
   "mimetype": "text/x-python",
   "name": "python",
   "nbconvert_exporter": "python",
   "pygments_lexer": "ipython2",
   "version": "2.7.9"
  }
 },
 "nbformat": 4,
 "nbformat_minor": 0
}
