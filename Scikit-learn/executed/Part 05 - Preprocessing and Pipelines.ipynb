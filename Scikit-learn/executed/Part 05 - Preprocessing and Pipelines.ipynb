{
 "cells": [
  {
   "cell_type": "markdown",
   "metadata": {},
   "source": [
    "Preprocessing and Pipelines\n",
    "============================="
   ]
  },
  {
   "cell_type": "code",
   "execution_count": 1,
   "metadata": {
    "collapsed": false
   },
   "outputs": [],
   "source": [
    "from sklearn.datasets import load_digits\n",
    "from sklearn.cross_validation import train_test_split\n",
    "digits = load_digits()\n",
    "X_train, X_test, y_train, y_test = train_test_split(digits.data, digits.target)"
   ]
  },
  {
   "cell_type": "markdown",
   "metadata": {},
   "source": [
    "Cross-validated pipelines including scaling, we need to estimate mean and standard deviation separately for each fold.\n",
    "To do that, we build a pipeline."
   ]
  },
  {
   "cell_type": "code",
   "execution_count": 2,
   "metadata": {
    "collapsed": false
   },
   "outputs": [],
   "source": [
    "from sklearn.pipeline import Pipeline\n",
    "from sklearn.svm import SVC\n",
    "from sklearn.preprocessing import StandardScaler"
   ]
  },
  {
   "cell_type": "code",
   "execution_count": 3,
   "metadata": {
    "collapsed": false
   },
   "outputs": [],
   "source": [
    "pipeline = Pipeline([(\"scaler\", StandardScaler()), (\"svm\", SVC())])\n",
    "# in new versions: make_pipeline(StandardScaler(), SVC())"
   ]
  },
  {
   "cell_type": "code",
   "execution_count": 4,
   "metadata": {
    "collapsed": false
   },
   "outputs": [
    {
     "data": {
      "text/plain": [
       "Pipeline(steps=[('scaler', StandardScaler(copy=True, with_mean=True, with_std=True)), ('svm', SVC(C=1.0, cache_size=200, class_weight=None, coef0=0.0, degree=3, gamma=0.0,\n",
       "  kernel='rbf', max_iter=-1, probability=False, random_state=None,\n",
       "  shrinking=True, tol=0.001, verbose=False))])"
      ]
     },
     "execution_count": 4,
     "metadata": {},
     "output_type": "execute_result"
    }
   ],
   "source": [
    "pipeline.fit(X_train, y_train)"
   ]
  },
  {
   "cell_type": "code",
   "execution_count": 5,
   "metadata": {
    "collapsed": false
   },
   "outputs": [
    {
     "data": {
      "text/plain": [
       "array([6, 4, 5, 7, 8, 5, 2, 7, 3, 2, 7, 8, 4, 5, 3, 6, 4, 9, 5, 6, 7, 4, 7,\n",
       "       2, 0, 3, 1, 5, 4, 7, 7, 2, 5, 3, 9, 7, 8, 2, 8, 1, 1, 3, 9, 5, 1, 7,\n",
       "       5, 1, 6, 0, 2, 4, 5, 0, 1, 4, 7, 1, 3, 3, 6, 3, 1, 8, 5, 1, 7, 2, 2,\n",
       "       9, 1, 2, 0, 6, 2, 4, 4, 9, 1, 0, 2, 4, 9, 2, 3, 4, 1, 7, 4, 0, 6, 1,\n",
       "       6, 8, 1, 6, 9, 4, 9, 6, 8, 8, 1, 2, 7, 7, 6, 2, 0, 3, 0, 7, 7, 8, 1,\n",
       "       6, 7, 0, 9, 5, 6, 3, 0, 8, 1, 7, 9, 7, 3, 9, 3, 0, 8, 8, 5, 5, 0, 8,\n",
       "       9, 2, 5, 7, 5, 2, 9, 7, 0, 6, 1, 8, 0, 4, 3, 7, 9, 5, 4, 7, 1, 3, 0,\n",
       "       3, 7, 7, 1, 8, 6, 3, 4, 5, 9, 2, 6, 3, 6, 4, 6, 1, 8, 3, 3, 6, 6, 5,\n",
       "       8, 3, 5, 7, 8, 1, 0, 3, 6, 5, 5, 6, 0, 7, 2, 0, 7, 7, 6, 6, 5, 8, 1,\n",
       "       6, 7, 8, 8, 4, 7, 2, 2, 9, 4, 6, 4, 8, 7, 0, 2, 8, 9, 6, 0, 7, 3, 3,\n",
       "       5, 9, 4, 3, 7, 2, 9, 1, 6, 8, 3, 9, 9, 1, 3, 3, 0, 0, 2, 8, 5, 7, 9,\n",
       "       6, 3, 6, 2, 0, 6, 5, 7, 7, 9, 2, 3, 9, 0, 5, 4, 8, 2, 5, 4, 8, 5, 0,\n",
       "       8, 6, 6, 5, 2, 0, 3, 7, 8, 4, 1, 1, 2, 3, 1, 6, 7, 8, 8, 8, 1, 8, 7,\n",
       "       4, 8, 0, 6, 9, 4, 3, 8, 7, 6, 8, 0, 6, 0, 7, 2, 1, 0, 4, 5, 1, 1, 1,\n",
       "       3, 5, 9, 4, 9, 4, 8, 1, 8, 0, 7, 6, 9, 3, 2, 7, 3, 9, 5, 8, 8, 3, 3,\n",
       "       0, 9, 1, 4, 1, 2, 7, 4, 7, 2, 7, 3, 7, 9, 6, 4, 8, 9, 9, 8, 5, 3, 5,\n",
       "       3, 1, 6, 5, 9, 8, 0, 2, 4, 8, 2, 4, 7, 6, 4, 6, 2, 8, 6, 8, 8, 9, 6,\n",
       "       9, 6, 4, 9, 0, 8, 9, 4, 1, 6, 3, 5, 9, 7, 5, 6, 0, 2, 1, 5, 7, 8, 7,\n",
       "       6, 9, 8, 7, 7, 1, 8, 9, 0, 4, 0, 6, 8, 6, 6, 5, 4, 3, 8, 2, 5, 4, 4,\n",
       "       6, 8, 7, 4, 4, 0, 6, 8, 9, 9, 2, 7, 0])"
      ]
     },
     "execution_count": 5,
     "metadata": {},
     "output_type": "execute_result"
    }
   ],
   "source": [
    "pipeline.predict(X_test)"
   ]
  },
  {
   "cell_type": "markdown",
   "metadata": {},
   "source": [
    "Cross-validation with a pipeline\n",
    "---------------------------------"
   ]
  },
  {
   "cell_type": "code",
   "execution_count": 6,
   "metadata": {
    "collapsed": false
   },
   "outputs": [
    {
     "data": {
      "text/plain": [
       "array([ 0.97787611,  0.97327394,  0.97757848])"
      ]
     },
     "execution_count": 6,
     "metadata": {},
     "output_type": "execute_result"
    }
   ],
   "source": [
    "from sklearn.cross_validation import cross_val_score\n",
    "cross_val_score(pipeline, X_train, y_train)"
   ]
  },
  {
   "cell_type": "markdown",
   "metadata": {},
   "source": [
    "Grid Search with a pipeline\n",
    "==========================="
   ]
  },
  {
   "cell_type": "code",
   "execution_count": 7,
   "metadata": {
    "collapsed": false
   },
   "outputs": [],
   "source": [
    "import numpy as np\n",
    "from sklearn.grid_search import GridSearchCV\n",
    "\n",
    "param_grid = {'svm__C': 10. ** np.arange(-3, 3), 'svm__gamma' : 10. ** np.arange(-3, 3)}\n",
    "\n",
    "grid_pipeline = GridSearchCV(pipeline, param_grid=param_grid, n_jobs=-1)"
   ]
  },
  {
   "cell_type": "code",
   "execution_count": 8,
   "metadata": {
    "collapsed": false
   },
   "outputs": [
    {
     "data": {
      "text/plain": [
       "GridSearchCV(cv=None, error_score='raise',\n",
       "       estimator=Pipeline(steps=[('scaler', StandardScaler(copy=True, with_mean=True, with_std=True)), ('svm', SVC(C=1.0, cache_size=200, class_weight=None, coef0=0.0, degree=3, gamma=0.0,\n",
       "  kernel='rbf', max_iter=-1, probability=False, random_state=None,\n",
       "  shrinking=True, tol=0.001, verbose=False))]),\n",
       "       fit_params={}, iid=True, n_jobs=-1,\n",
       "       param_grid={'svm__C': array([  1.00000e-03,   1.00000e-02,   1.00000e-01,   1.00000e+00,\n",
       "         1.00000e+01,   1.00000e+02]), 'svm__gamma': array([  1.00000e-03,   1.00000e-02,   1.00000e-01,   1.00000e+00,\n",
       "         1.00000e+01,   1.00000e+02])},\n",
       "       pre_dispatch='2*n_jobs', refit=True, scoring=None, verbose=0)"
      ]
     },
     "execution_count": 8,
     "metadata": {},
     "output_type": "execute_result"
    }
   ],
   "source": [
    "grid_pipeline.fit(X_train, y_train)"
   ]
  },
  {
   "cell_type": "code",
   "execution_count": 9,
   "metadata": {
    "collapsed": false
   },
   "outputs": [
    {
     "data": {
      "text/plain": [
       "0.98222222222222222"
      ]
     },
     "execution_count": 9,
     "metadata": {},
     "output_type": "execute_result"
    }
   ],
   "source": [
    "grid_pipeline.score(X_test, y_test)"
   ]
  },
  {
   "cell_type": "code",
   "execution_count": null,
   "metadata": {
    "collapsed": false
   },
   "outputs": [],
   "source": []
  }
 ],
 "metadata": {
  "kernelspec": {
   "display_name": "Python 2",
   "language": "python",
   "name": "python2"
  },
  "language_info": {
   "codemirror_mode": {
    "name": "ipython",
    "version": 2
   },
   "file_extension": ".py",
   "mimetype": "text/x-python",
   "name": "python",
   "nbconvert_exporter": "python",
   "pygments_lexer": "ipython2",
   "version": "2.7.9"
  }
 },
 "nbformat": 4,
 "nbformat_minor": 0
}
